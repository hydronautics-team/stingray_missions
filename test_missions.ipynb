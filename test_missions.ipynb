{
 "cells": [
  {
   "cell_type": "code",
   "execution_count": 1,
   "metadata": {},
   "outputs": [],
   "source": [
    "from pathlib import Path\n",
    "import yaml"
   ]
  },
  {
   "cell_type": "code",
   "execution_count": 2,
   "metadata": {},
   "outputs": [],
   "source": [
    "config_path = Path(\"configs/default_missions/search.yaml\")"
   ]
  },
  {
   "cell_type": "code",
   "execution_count": 3,
   "metadata": {},
   "outputs": [],
   "source": [
    "with open(config_path, \"r\") as f:\n",
    "    config = yaml.safe_load(f)"
   ]
  },
  {
   "cell_type": "code",
   "execution_count": 7,
   "metadata": {},
   "outputs": [
    {
     "data": {
      "text/plain": [
       "dict_items([('ROTATE_CLOCK', {'initial': True, 'event': 'object_detection_event', 'expire_time': 10, 'action': {'type': 'rotation', 'args': {'speed': '(0', 0: None, '15)': None, 'angle': 90}}}), ('ROTATE_ANTICLOCK', {'event': 'object_detection_event', 'expire_time': 10, 'action': {'type': 'rotation', 'args': {'speed': '(0', 0: None, '-15)': None, 'angle': 90}}})])"
      ]
     },
     "execution_count": 7,
     "metadata": {},
     "output_type": "execute_result"
    }
   ],
   "source": [
    "config[\"states\"].items()"
   ]
  },
  {
   "cell_type": "code",
   "execution_count": null,
   "metadata": {},
   "outputs": [],
   "source": [
    "class Mission(object):\n",
    "    def __init__(self, node: Node, config_path: str):\n",
    "        \"\"\"Mission class for executing a mission from a config file\"\"\"\n",
    "        self.node = node\n",
    "        with open(config_path, \"r\") as f:\n",
    "            self.config = yaml.safe_load(f)\n",
    "\n",
    "        self.name = self.config[\"name\"]\n",
    "\n",
    "        self.setup_machine()\n",
    "        self.register_events()\n",
    "\n",
    "    def setup_machine(self):\n",
    "        \"\"\"Registering the state machine from the config file\"\"\"\n",
    "        self.start_state = f'START_{self.name.upper()}'\n",
    "        self.finish_state = f'FINISH_{self.name.upper()}'\n",
    "        self.go_transition = f'go_{self.name.lower()}'\n",
    "        self.abort_transition = f'abort_{self.name.lower()}' \n",
    "\n",
    "        self.machine = AsyncMachine(\n",
    "            model=self,\n",
    "            states=[self.start_state, self.finish_state],\n",
    "            transitions=[[self.abort_transition, \"*\", self.finish_state]],\n",
    "            initial=self.start_state,\n",
    "            auto_transitions=False,\n",
    "            after_state_change=\"execute_state\",\n",
    "            before_state_change=\"leave_state\",\n",
    "        )\n",
    "\n",
    "        for state, args in self.config['states'].items():\n",
    "            self.machine.add_state(f'{state}_{self.name.upper()}')\n",
    "            if 'initial' in args and args['initial']:\n",
    "                self.machine.add_transition(trigger=self.go_transition, source=self.start_state, dest=state)\n",
    "        \n",
    "        for transition in self.config['transitions']:\n",
    "            self.machine.add_transition(trigger=transition['trigger'], source=transition['source'], dest=transition['dest'].format(start=self.start_state, finish=self.finish_state))\n",
    "\n",
    "    async def on_enter_FINISH(self):\n",
    "        \"\"\"Executing on entering the FINISH state\"\"\"\n",
    "        for event in self.events.values():\n",
    "            await event.unsubscribe(self.node)\n",
    "        logger.info(\"Mission finished\")\n",
    "\n",
    "    async def execute_state(self):\n",
    "        \"\"\"Executing as soon as the state is entered\"\"\"\n",
    "        if self.state in self.events:\n",
    "            await self.events[self.state].subscribe(self.node)\n",
    "        logger.info(f\"{self.state} started\")\n",
    "\n",
    "    async def leave_state(self):\n",
    "        \"\"\"Executing before leaving the state\"\"\"\n",
    "        if self.state in self.events:\n",
    "            await self.events[self.state].unsubscribe(self.node)\n",
    "        logger.info(f\"{self.state} ended\")\n",
    "\n",
    "    def register_events(self):\n",
    "        \"\"\"Registering events from the config file\"\"\"\n",
    "        self.events: dict[str, TopicEvent] = {}\n",
    "        for event in self.config[\"events\"]:\n",
    "            if event[\"type\"] == \"TopicEvent\":\n",
    "                self.events[event[\"state\"]] = TopicEvent(\n",
    "                    trigger_fn=self.trigger,\n",
    "                    topic=event[\"topic\"],\n",
    "                    data=event[\"data\"],\n",
    "                    trigger=event[\"trigger\"],\n",
    "                    count=event[\"count\"],\n",
    "                )\n",
    "            else:\n",
    "                raise ValueError(\"Event type not supported\")\n"
   ]
  },
  {
   "cell_type": "code",
   "execution_count": 5,
   "metadata": {},
   "outputs": [],
   "source": []
  },
  {
   "cell_type": "code",
   "execution_count": 12,
   "metadata": {},
   "outputs": [
    {
     "name": "stdout",
     "output_type": "stream",
     "text": [
      "SEARCH_CLOCK {'trigger_event': 'object_detection_event', 'expire_time': 10, 'action': 'rotate_clockwise'}\n",
      "SEARCH_ANTICLOCK {'trigger_event': 'object_detection_event', 'expire_time': 10, 'action': 'rotate_anticlockwise'}\n"
     ]
    }
   ],
   "source": [
    "for state, args in config['states'].items():\n",
    "    print(state, args)"
   ]
  },
  {
   "cell_type": "code",
   "execution_count": 14,
   "metadata": {},
   "outputs": [
    {
     "data": {
      "text/plain": [
       "'finish'"
      ]
     },
     "execution_count": 14,
     "metadata": {},
     "output_type": "execute_result"
    }
   ],
   "source": [
    "\"finish\".format(finish=\"FINISH_SEARCH\", start=\"START_SEARCH\")"
   ]
  },
  {
   "cell_type": "code",
   "execution_count": null,
   "metadata": {},
   "outputs": [],
   "source": []
  }
 ],
 "metadata": {
  "kernelspec": {
   "display_name": "stingray_missions-voEX2re-",
   "language": "python",
   "name": "python3"
  },
  "language_info": {
   "codemirror_mode": {
    "name": "ipython",
    "version": 3
   },
   "file_extension": ".py",
   "mimetype": "text/x-python",
   "name": "python",
   "nbconvert_exporter": "python",
   "pygments_lexer": "ipython3",
   "version": "3.10.6"
  },
  "orig_nbformat": 4
 },
 "nbformat": 4,
 "nbformat_minor": 2
}
