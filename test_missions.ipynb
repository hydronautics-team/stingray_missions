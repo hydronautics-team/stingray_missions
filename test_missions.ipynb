{
 "cells": [
  {
   "cell_type": "code",
   "execution_count": 5,
   "metadata": {},
   "outputs": [],
   "source": [
    "from pathlib import Path\n",
    "from pydantic import BaseModel, validator\n",
    "import yaml"
   ]
  },
  {
   "cell_type": "code",
   "execution_count": 2,
   "metadata": {},
   "outputs": [],
   "source": [
    "config_path = Path(\"configs/default_missions/search.yaml\")"
   ]
  },
  {
   "cell_type": "code",
   "execution_count": 3,
   "metadata": {},
   "outputs": [],
   "source": [
    "with open(config_path, \"r\") as f:\n",
    "    config = yaml.safe_load(f)"
   ]
  },
  {
   "cell_type": "code",
   "execution_count": 20,
   "metadata": {},
   "outputs": [
    {
     "data": {
      "text/plain": [
       "dict_items([('name', 'Search_{target}'), ('default_transitions', True), ('states', {'ROTATE_CLOCK': {'initial': True, 'event': 'object_detection_event_gate_clock', 'expire_time': 5, 'action': {'type': 'rotation', 'args': {'speed': '(0', 0: None, '15)': None, 'angle': 90}}}, 'ROTATE_ANTICLOCK': {'event': 'object_detection_event_gate_anticlock', 'expire_time': 5, 'action': {'type': 'rotation', 'args': {'speed': '(0', 0: None, '-15)': None, 'angle': 90}}}, 'DUMMY': {'event': 'no_event'}}), ('transitions', [{'trigger': 'found', 'source': ['ROTATE_CLOCK', 'ROTATE_ANTICLOCK'], 'dest': '{success}'}, {'trigger': '{timeout}', 'source': 'ROTATE_CLOCK', 'dest': 'ROTATE_ANTICLOCK'}, {'trigger': '{timeout}', 'source': 'ROTATE_ANTICLOCK', 'dest': '{failure}'}]), ('events', {'object_detection_event_gate_clock': {'type': 'TopicEvent', 'topic': 'gate_clock', 'trigger': 'found', 'count': 2, 'data': 'gate'}, 'object_detection_event_gate_anticlock': {'type': 'TopicEvent', 'topic': 'gate_anticlock', 'trigger': 'found', 'count': 2, 'data': 'gate_anticlock'}})])"
      ]
     },
     "execution_count": 20,
     "metadata": {},
     "output_type": "execute_result"
    }
   ],
   "source": [
    "config.items()"
   ]
  },
  {
   "cell_type": "code",
   "execution_count": 25,
   "metadata": {},
   "outputs": [],
   "source": [
    "class StateAction(BaseModel):\n",
    "    type: str = \"\"\n",
    "    goal: dict = {}\n",
    "\n",
    "\n",
    "class State(BaseModel):\n",
    "    initial: bool = False\n",
    "    event: str = \"\"\n",
    "    expire_time: float = 0.0\n",
    "    actions: dict[int, StateAction] = {}\n",
    "\n",
    "\n",
    "class Transition(BaseModel):\n",
    "    trigger: str = \"\"\n",
    "    source: str | list[str] = \"\"\n",
    "    dest: str | list[str] = \"\"\n",
    "\n",
    "    @validator('trigger')\n",
    "    def trigger_must_be_lower(cls, v):\n",
    "        return v.lower()\n",
    "\n",
    "    @validator('source', 'dest')\n",
    "    def source_dest_must_be_upper(cls, v):\n",
    "        if isinstance(v, str):\n",
    "            return v.upper()\n",
    "        elif isinstance(v, list):\n",
    "            return [s.upper() for s in v]\n",
    "\n",
    "\n",
    "class Event(BaseModel):\n",
    "    type: str = \"\"\n",
    "    trigger: str = \"\"\n",
    "\n",
    "\n",
    "class TopicEvent(Event):\n",
    "    topic: str = \"\"\n",
    "    data: str = \"\"\n",
    "    count: int = 0\n",
    "\n",
    "\n",
    "class ObjectDetectionEvent(Event):\n",
    "    topic: str = \"\"\n",
    "    data: str = \"\"\n",
    "    count: int = 0\n",
    "\n",
    "\n",
    "class Mission(BaseModel):\n",
    "    states: dict[str, State] = {}\n",
    "    transitions: list[Transition] = []\n",
    "    events: dict[str, Event] = {}\n",
    "    default_transitions: bool = True\n",
    "\n",
    "    @validator('states')\n",
    "    def states_must_be_upper(cls, v: dict[str, State]):\n",
    "        inited_states = {}\n",
    "        for name, state in v.items():\n",
    "            inited_states[name.upper()] = State(**state.dict())\n",
    "        return inited_states\n",
    "\n",
    "    @validator('events')\n",
    "    def init_events(cls, v: dict[str, Event]):\n",
    "        inited_events = {}\n",
    "        for name, event in v.items():\n",
    "            if event.type == \"TopicEvent\":\n",
    "                inited_events[name.lower()] = TopicEvent(**event.dict())\n",
    "            elif event.type == \"ObjectDetectionEvent\":\n",
    "                inited_events[name.lower()] = ObjectDetectionEvent(**event.dict())\n",
    "            else:\n",
    "                raise ValueError(f\"Event type {event.type} not supported\")\n",
    "        return inited_events\n",
    "\n",
    "\n",
    "class Scenario(BaseModel):\n",
    "    missions: dict[str, Mission] = {}\n",
    "\n",
    "\n",
    "class Config(BaseModel):\n",
    "    scenarios: dict[str, Scenario] = {}"
   ]
  },
  {
   "cell_type": "code",
   "execution_count": 27,
   "metadata": {},
   "outputs": [
    {
     "data": {
      "text/plain": [
       "'{\"states\": {}, \"transitions\": [], \"events\": {}, \"default_transitions\": true}'"
      ]
     },
     "execution_count": 27,
     "metadata": {},
     "output_type": "execute_result"
    }
   ],
   "source": [
    "Mission().json()"
   ]
  },
  {
   "cell_type": "code",
   "execution_count": null,
   "metadata": {},
   "outputs": [],
   "source": []
  }
 ],
 "metadata": {
  "kernelspec": {
   "display_name": "stingray_missions-voEX2re-",
   "language": "python",
   "name": "python3"
  },
  "language_info": {
   "codemirror_mode": {
    "name": "ipython",
    "version": 3
   },
   "file_extension": ".py",
   "mimetype": "text/x-python",
   "name": "python",
   "nbconvert_exporter": "python",
   "pygments_lexer": "ipython3",
   "version": "3.10.6"
  },
  "orig_nbformat": 4
 },
 "nbformat": 4,
 "nbformat_minor": 2
}
