{
 "cells": [
  {
   "cell_type": "code",
   "execution_count": 1,
   "metadata": {},
   "outputs": [],
   "source": [
    "from transitions.extensions.asyncio import AsyncMachine\n",
    "import asyncio\n",
    "import json\n",
    "from pathlib import Path\n",
    "import yaml"
   ]
  },
  {
   "cell_type": "code",
   "execution_count": null,
   "metadata": {},
   "outputs": [],
   "source": [
    "class TopicEvent:\n",
    "    def __init__(self, machine: AsyncMachine, name: str, count: int = 0):\n",
    "        self.machine = machine\n",
    "        self.name = name\n",
    "        self.count = count\n",
    "\n",
    "    async def msg_callback(self, msg: str):\n",
    "        print(f\"Message received: {msg}\")\n",
    "        if msg == \"gate\":\n",
    "            self.gate_count += 1\n",
    "            if self.gate_count == 5:\n",
    "                # Trigger the state machine \"found\" to make a transition to end\n",
    "                self.gate_count = 0\n",
    "                await self.machine.trigger(\"found\")\n",
    "        else:\n",
    "            self.gate_count = 0"
   ]
  },
  {
   "cell_type": "code",
   "execution_count": 2,
   "metadata": {},
   "outputs": [],
   "source": [
    "class Mission:\n",
    "    def __init__(self, missions_pkg: str = \"stingray_missions\"):\n",
    "        config_path = Path(\"src/stingray_missions/configs/mission.yaml\")\n",
    "        with open(config_path, \"r\") as f:\n",
    "            self.config = yaml.safe_load(f)\n",
    "\n",
    "        self.machine = AsyncMachine(\n",
    "            model=self,\n",
    "            states=[\"start\", \"finish\"],\n",
    "            transitions=[[\"abort\", \"*\", \"finish\"]],\n",
    "            initial=\"start\",\n",
    "            auto_transitions=False\n",
    "        )\n",
    "        self.machine.add_states(self.config[\"states\"])\n",
    "        self.machine.add_transitions(self.config[\"transitions\"])\n",
    "\n",
    "        if self.config[\"events\"]:\n",
    "            self.events = []\n",
    "            for event in self.config[\"events\"]:\n",
    "                if event[\"type\"] == \"topic\":\n",
    "                    self.events.append(TopicEvent(self.machine, event[\"name\"], event[\"count\"]))\n",
    "\n",
    "    "
   ]
  },
  {
   "cell_type": "code",
   "execution_count": 5,
   "metadata": {},
   "outputs": [],
   "source": [
    "async def msg_loop(mission_obj: Mission):\n",
    "    while True:\n",
    "        await mission_obj.msg_callback(\"gate\")\n",
    "        await asyncio.sleep(1)\n",
    "\n",
    "def main():\n",
    "    mission = Mission()\n",
    "    future = asyncio.wait([msg_loop(mission), mission.go()])\n",
    "    asyncio.get_event_loop().run_until_complete(future)"
   ]
  },
  {
   "cell_type": "code",
   "execution_count": 6,
   "metadata": {},
   "outputs": [
    {
     "ename": "RuntimeError",
     "evalue": "This event loop is already running",
     "output_type": "error",
     "traceback": [
      "\u001b[0;31m---------------------------------------------------------------------------\u001b[0m",
      "\u001b[0;31mRuntimeError\u001b[0m                              Traceback (most recent call last)",
      "Cell \u001b[0;32mIn[6], line 1\u001b[0m\n\u001b[0;32m----> 1\u001b[0m main()\n",
      "Cell \u001b[0;32mIn[5], line 9\u001b[0m, in \u001b[0;36mmain\u001b[0;34m()\u001b[0m\n\u001b[1;32m      7\u001b[0m mission \u001b[39m=\u001b[39m Mission()\n\u001b[1;32m      8\u001b[0m future \u001b[39m=\u001b[39m asyncio\u001b[39m.\u001b[39mwait([msg_loop(mission), mission\u001b[39m.\u001b[39mgo()])\n\u001b[0;32m----> 9\u001b[0m asyncio\u001b[39m.\u001b[39;49mget_event_loop()\u001b[39m.\u001b[39;49mrun_until_complete(future)\n",
      "File \u001b[0;32m/usr/lib/python3.10/asyncio/base_events.py:622\u001b[0m, in \u001b[0;36mBaseEventLoop.run_until_complete\u001b[0;34m(self, future)\u001b[0m\n\u001b[1;32m    611\u001b[0m \u001b[39m\u001b[39m\u001b[39m\"\"\"Run until the Future is done.\u001b[39;00m\n\u001b[1;32m    612\u001b[0m \n\u001b[1;32m    613\u001b[0m \u001b[39mIf the argument is a coroutine, it is wrapped in a Task.\u001b[39;00m\n\u001b[0;32m   (...)\u001b[0m\n\u001b[1;32m    619\u001b[0m \u001b[39mReturn the Future's result, or raise its exception.\u001b[39;00m\n\u001b[1;32m    620\u001b[0m \u001b[39m\"\"\"\u001b[39;00m\n\u001b[1;32m    621\u001b[0m \u001b[39mself\u001b[39m\u001b[39m.\u001b[39m_check_closed()\n\u001b[0;32m--> 622\u001b[0m \u001b[39mself\u001b[39;49m\u001b[39m.\u001b[39;49m_check_running()\n\u001b[1;32m    624\u001b[0m new_task \u001b[39m=\u001b[39m \u001b[39mnot\u001b[39;00m futures\u001b[39m.\u001b[39misfuture(future)\n\u001b[1;32m    625\u001b[0m future \u001b[39m=\u001b[39m tasks\u001b[39m.\u001b[39mensure_future(future, loop\u001b[39m=\u001b[39m\u001b[39mself\u001b[39m)\n",
      "File \u001b[0;32m/usr/lib/python3.10/asyncio/base_events.py:582\u001b[0m, in \u001b[0;36mBaseEventLoop._check_running\u001b[0;34m(self)\u001b[0m\n\u001b[1;32m    580\u001b[0m \u001b[39mdef\u001b[39;00m \u001b[39m_check_running\u001b[39m(\u001b[39mself\u001b[39m):\n\u001b[1;32m    581\u001b[0m     \u001b[39mif\u001b[39;00m \u001b[39mself\u001b[39m\u001b[39m.\u001b[39mis_running():\n\u001b[0;32m--> 582\u001b[0m         \u001b[39mraise\u001b[39;00m \u001b[39mRuntimeError\u001b[39;00m(\u001b[39m'\u001b[39m\u001b[39mThis event loop is already running\u001b[39m\u001b[39m'\u001b[39m)\n\u001b[1;32m    583\u001b[0m     \u001b[39mif\u001b[39;00m events\u001b[39m.\u001b[39m_get_running_loop() \u001b[39mis\u001b[39;00m \u001b[39mnot\u001b[39;00m \u001b[39mNone\u001b[39;00m:\n\u001b[1;32m    584\u001b[0m         \u001b[39mraise\u001b[39;00m \u001b[39mRuntimeError\u001b[39;00m(\n\u001b[1;32m    585\u001b[0m             \u001b[39m'\u001b[39m\u001b[39mCannot run the event loop while another loop is running\u001b[39m\u001b[39m'\u001b[39m)\n",
      "\u001b[0;31mRuntimeError\u001b[0m: This event loop is already running"
     ]
    }
   ],
   "source": [
    "main()"
   ]
  },
  {
   "cell_type": "code",
   "execution_count": 6,
   "metadata": {},
   "outputs": [
    {
     "data": {
      "text/plain": [
       "[<AsyncTransition('start', 'start')@139791018338784>,\n",
       " <AsyncTransition('finish', 'start')@139790991813904>,\n",
       " <AsyncTransition('rotate_clockwise', 'start')@139790991813520>,\n",
       " <AsyncTransition('rotate_counter_clockwise', 'start')@139790991814576>,\n",
       " <AsyncTransition('start', 'finish')@139790991813808>,\n",
       " <AsyncTransition('finish', 'finish')@139790991813856>,\n",
       " <AsyncTransition('rotate_clockwise', 'finish')@139790991813712>,\n",
       " <AsyncTransition('rotate_counter_clockwise', 'finish')@139790991814480>,\n",
       " <AsyncTransition('start', 'end')@139790991814096>,\n",
       " <AsyncTransition('finish', 'end')@139790991814144>,\n",
       " <AsyncTransition('start', 'rotate_clockwise')@139790991814672>,\n",
       " <AsyncTransition('finish', 'rotate_clockwise')@139790991813760>,\n",
       " <AsyncTransition('rotate_clockwise', 'rotate_clockwise')@139790991813472>,\n",
       " <AsyncTransition('rotate_counter_clockwise', 'rotate_clockwise')@139790991814384>,\n",
       " <AsyncTransition('start', 'rotate_counter_clockwise')@139790991814528>,\n",
       " <AsyncTransition('finish', 'rotate_counter_clockwise')@139790991815008>,\n",
       " <AsyncTransition('rotate_clockwise', 'rotate_counter_clockwise')@139790991814864>,\n",
       " <AsyncTransition('rotate_counter_clockwise', 'rotate_counter_clockwise')@139790991814048>,\n",
       " <AsyncTransition('start', 'rotate_clockwise')@139790991817840>,\n",
       " <AsyncTransition('rotate_clockwise', 'end')@139790991814912>,\n",
       " <AsyncTransition('rotate_counter_clockwise', 'end')@139790991815392>,\n",
       " <AsyncTransition('rotate_clockwise', 'rotate_counter_clockwise')@139790991814960>]"
      ]
     },
     "execution_count": 6,
     "metadata": {},
     "output_type": "execute_result"
    }
   ],
   "source": [
    "mission.machine.get_transitions()"
   ]
  },
  {
   "cell_type": "code",
   "execution_count": null,
   "metadata": {},
   "outputs": [],
   "source": []
  }
 ],
 "metadata": {
  "kernelspec": {
   "display_name": "stingray_missions-voEX2re-",
   "language": "python",
   "name": "python3"
  },
  "language_info": {
   "codemirror_mode": {
    "name": "ipython",
    "version": 3
   },
   "file_extension": ".py",
   "mimetype": "text/x-python",
   "name": "python",
   "nbconvert_exporter": "python",
   "pygments_lexer": "ipython3",
   "version": "3.10.6"
  },
  "orig_nbformat": 4
 },
 "nbformat": 4,
 "nbformat_minor": 2
}
